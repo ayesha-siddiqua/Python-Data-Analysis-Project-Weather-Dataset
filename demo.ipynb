{
 "cells": [
  {
   "cell_type": "code",
   "execution_count": 1,
   "id": "1542497b",
   "metadata": {},
   "outputs": [
    {
     "data": {
      "text/html": [
       "<div>\n",
       "<style scoped>\n",
       "    .dataframe tbody tr th:only-of-type {\n",
       "        vertical-align: middle;\n",
       "    }\n",
       "\n",
       "    .dataframe tbody tr th {\n",
       "        vertical-align: top;\n",
       "    }\n",
       "\n",
       "    .dataframe thead th {\n",
       "        text-align: right;\n",
       "    }\n",
       "</style>\n",
       "<table border=\"1\" class=\"dataframe\">\n",
       "  <thead>\n",
       "    <tr style=\"text-align: right;\">\n",
       "      <th></th>\n",
       "      <th>Student ID</th>\n",
       "      <th>State</th>\n",
       "      <th>Gender</th>\n",
       "      <th>Student Status</th>\n",
       "      <th>Country</th>\n",
       "      <th>Student Status.1</th>\n",
       "      <th>Major</th>\n",
       "      <th>Age</th>\n",
       "      <th>Height (in)</th>\n",
       "      <th>Study hrs</th>\n",
       "      <th>Exam score out of 40</th>\n",
       "    </tr>\n",
       "  </thead>\n",
       "  <tbody>\n",
       "    <tr>\n",
       "      <th>0</th>\n",
       "      <td>1</td>\n",
       "      <td>California</td>\n",
       "      <td>Female</td>\n",
       "      <td>Graduate</td>\n",
       "      <td>US</td>\n",
       "      <td>Graduate</td>\n",
       "      <td>Politics</td>\n",
       "      <td>30</td>\n",
       "      <td>61</td>\n",
       "      <td>4</td>\n",
       "      <td>30</td>\n",
       "    </tr>\n",
       "    <tr>\n",
       "      <th>1</th>\n",
       "      <td>2</td>\n",
       "      <td>Arizona</td>\n",
       "      <td>Female</td>\n",
       "      <td>Undergraduate</td>\n",
       "      <td>US</td>\n",
       "      <td>Undergraduate</td>\n",
       "      <td>Politics</td>\n",
       "      <td>19</td>\n",
       "      <td>64</td>\n",
       "      <td>2</td>\n",
       "      <td>19</td>\n",
       "    </tr>\n",
       "    <tr>\n",
       "      <th>2</th>\n",
       "      <td>3</td>\n",
       "      <td>New York</td>\n",
       "      <td>Male</td>\n",
       "      <td>Graduate</td>\n",
       "      <td>US</td>\n",
       "      <td>Graduate</td>\n",
       "      <td>Math</td>\n",
       "      <td>26</td>\n",
       "      <td>73</td>\n",
       "      <td>6</td>\n",
       "      <td>26</td>\n",
       "    </tr>\n",
       "    <tr>\n",
       "      <th>3</th>\n",
       "      <td>4</td>\n",
       "      <td>New York</td>\n",
       "      <td>Male</td>\n",
       "      <td>Graduate</td>\n",
       "      <td>US</td>\n",
       "      <td>Graduate</td>\n",
       "      <td>Econ</td>\n",
       "      <td>33</td>\n",
       "      <td>68</td>\n",
       "      <td>3</td>\n",
       "      <td>33</td>\n",
       "    </tr>\n",
       "    <tr>\n",
       "      <th>4</th>\n",
       "      <td>5</td>\n",
       "      <td>Ohio</td>\n",
       "      <td>Male</td>\n",
       "      <td>Graduate</td>\n",
       "      <td>US</td>\n",
       "      <td>Graduate</td>\n",
       "      <td>Econ</td>\n",
       "      <td>37</td>\n",
       "      <td>71</td>\n",
       "      <td>6</td>\n",
       "      <td>37</td>\n",
       "    </tr>\n",
       "  </tbody>\n",
       "</table>\n",
       "</div>"
      ],
      "text/plain": [
       "   Student ID       State  Gender Student Status Country Student Status.1  \\\n",
       "0           1  California  Female       Graduate      US         Graduate   \n",
       "1           2     Arizona  Female  Undergraduate      US    Undergraduate   \n",
       "2           3    New York    Male       Graduate      US         Graduate   \n",
       "3           4    New York    Male       Graduate      US         Graduate   \n",
       "4           5        Ohio    Male       Graduate      US         Graduate   \n",
       "\n",
       "      Major  Age  Height (in)  Study hrs  Exam score out of 40  \n",
       "0  Politics   30           61          4                    30  \n",
       "1  Politics   19           64          2                    19  \n",
       "2      Math   26           73          6                    26  \n",
       "3      Econ   33           68          3                    33  \n",
       "4      Econ   37           71          6                    37  "
      ]
     },
     "execution_count": 1,
     "metadata": {},
     "output_type": "execute_result"
    }
   ],
   "source": [
    "import pandas as pd\n",
    "df = pd.read_csv('dataset')\n",
    "df.head()"
   ]
  },
  {
   "cell_type": "code",
   "execution_count": 2,
   "id": "5b2a3172",
   "metadata": {},
   "outputs": [
    {
     "name": "stdout",
     "output_type": "stream",
     "text": [
      "Average score of students = 25.2\n"
     ]
    }
   ],
   "source": [
    "average_score = df['Exam score out of 40'].mean()\n",
    "print(\"Average score of students =\", average_score)"
   ]
  },
  {
   "cell_type": "code",
   "execution_count": 3,
   "id": "875c9fa2",
   "metadata": {},
   "outputs": [
    {
     "name": "stdout",
     "output_type": "stream",
     "text": [
      "Frequnecy distribution of major\n"
     ]
    },
    {
     "data": {
      "text/plain": [
       "Politics    12\n",
       "Econ        10\n",
       "Math         8\n",
       "Name: Major, dtype: int64"
      ]
     },
     "execution_count": 3,
     "metadata": {},
     "output_type": "execute_result"
    }
   ],
   "source": [
    "print(\"Frequnecy distribution of major\")\n",
    "count = df['Major'].value_counts()\n",
    "count"
   ]
  },
  {
   "cell_type": "code",
   "execution_count": 4,
   "id": "6f0451c5",
   "metadata": {},
   "outputs": [
    {
     "name": "stdout",
     "output_type": "stream",
     "text": [
      "Average age of students = 25.2\n"
     ]
    }
   ],
   "source": [
    "average_age = df.Age.mean()\n",
    "print(\"Average age of students =\", average_age)"
   ]
  },
  {
   "cell_type": "code",
   "execution_count": 5,
   "id": "bd334550",
   "metadata": {},
   "outputs": [
    {
     "name": "stdout",
     "output_type": "stream",
     "text": [
      "Mode is 19\n"
     ]
    }
   ],
   "source": [
    "import statistics\n",
    "print(\"Mode is % s\" % (statistics.mode(df.Age)))"
   ]
  },
  {
   "cell_type": "code",
   "execution_count": 6,
   "id": "22c3f555",
   "metadata": {},
   "outputs": [
    {
     "name": "stdout",
     "output_type": "stream",
     "text": [
      "Proportion of student that are graduate 50.0 %\n"
     ]
    }
   ],
   "source": [
    "graduate = (df['Student Status.1']=='Graduate').sum()\n",
    "proportion = (graduate/df.shape[0])*100\n",
    "print(\"Proportion of student that are graduate\", proportion,\"%\")"
   ]
  },
  {
   "cell_type": "code",
   "execution_count": 7,
   "id": "73edf438",
   "metadata": {},
   "outputs": [
    {
     "name": "stdout",
     "output_type": "stream",
     "text": [
      "Distribution of student by height\n",
      "mean = 66.43333333333334\n",
      "meadian = 66.5\n",
      "Mode 68\n",
      "Standard Deviation 4.658572619437709\n",
      "Variance 21.702298850574717\n",
      "Skewness 0.171892732555845\n"
     ]
    }
   ],
   "source": [
    "print(\"Distribution of student by height\")\n",
    "print(\"mean =\", df['Height (in)'].mean())\n",
    "print(\"meadian =\", df[\"Height (in)\"].median())\n",
    "print(\"Mode % s\" % (statistics.mode(df['Height (in)'])))\n",
    "print(\"Standard Deviation\", df['Height (in)'].std())\n",
    "print(\"Variance\", df['Height (in)'].var())\n",
    "print(\"Skewness\", df['Height (in)'].skew())"
   ]
  }
 ],
 "metadata": {
  "kernelspec": {
   "display_name": "Python 3 (ipykernel)",
   "language": "python",
   "name": "python3"
  },
  "language_info": {
   "codemirror_mode": {
    "name": "ipython",
    "version": 3
   },
   "file_extension": ".py",
   "mimetype": "text/x-python",
   "name": "python",
   "nbconvert_exporter": "python",
   "pygments_lexer": "ipython3",
   "version": "3.9.7"
  }
 },
 "nbformat": 4,
 "nbformat_minor": 5
}
